{
  "nbformat": 4,
  "nbformat_minor": 0,
  "metadata": {
    "colab": {
      "provenance": []
    },
    "kernelspec": {
      "name": "python3",
      "display_name": "Python 3"
    },
    "language_info": {
      "name": "python"
    }
  },
  "cells": [
    {
      "cell_type": "markdown",
      "source": [
        "<p align='center'>\n",
        "  <img src='https://www.python.org/static/community_logos/python-logo-master-v3-TM.png' width=400>\n",
        "</p>\n",
        "\n",
        "# Programação em Python\n",
        "\n",
        "<br>\n",
        "\n",
        "<p align='justify'>&nbsp;&nbsp;&nbsp;Nesse notebook, iremos explorar conceitos fundamentais da linguagem. Esses conceitos são importantes para qualquer aplicabilidade e carregam com si a famosa \"Lógica de Programação\". Vamos conferir?</p>\n",
        "\n",
        "<br>\n",
        "\n",
        "## 0. Por que aprender Python?\n",
        "\n",
        "<br>\n",
        "\n",
        "- **Versatilidade:** Python é uma linguagem versátil que pode ser usada em uma variedade de domínios, como desenvolvimento web, análise de dados, automação, inteligência artificial e muito mais.\n",
        "\n",
        "- **Comunidade Ativa:** Python tem uma comunidade de desenvolvedores ativa e uma vasta quantidade de bibliotecas e recursos disponíveis. Isso facilita o desenvolvimento de projetos e soluções.\n",
        "\n",
        "- **Demanda no Mercado:** A demanda por desenvolvedores Python está em constante crescimento, tornando-o uma habilidade valiosa no mercado de trabalho de tecnologia.\n",
        "\n",
        "<br>"
      ],
      "metadata": {
        "id": "1vSjTZHDL50G"
      }
    },
    {
      "cell_type": "markdown",
      "source": [
        "## 1. Primeiros passos\n",
        "\n",
        "<br>\n",
        "\n",
        "<p align='justify'>&nbsp;&nbsp;&nbsp;Nessa sessão, vamos conhecer um pouquinho de como a linguagem é executada. É um momento para rodarmos o famoso <code>Olá, mundo!</code>, entender os conceitos de variáveis, seus tipos de dados e começar a praticar boas práticas de código.</p>"
      ],
      "metadata": {
        "id": "Qa8XYkAGNg7u"
      }
    },
    {
      "cell_type": "markdown",
      "source": [
        "### 1.1. Olá, mundo!\n",
        "\n",
        "<br>\n",
        "\n",
        "<p align='justify'>&nbsp;&nbsp;&nbsp;Vamos começar simples. Queremos escrever algo na tela e, nada melhor do que a convenção de dizer \"Olá\" para o mundo.</p>\n",
        "\n",
        "<br>"
      ],
      "metadata": {
        "id": "GdSrJPC-NkLV"
      }
    },
    {
      "cell_type": "code",
      "source": [],
      "metadata": {
        "id": "lKbiaoAgXopf"
      },
      "execution_count": 3,
      "outputs": []
    },
    {
      "cell_type": "markdown",
      "source": [
        "<br>\n",
        "\n",
        "### 1.2. Variáveis e tipos de dados\n",
        "\n",
        "<br>\n",
        "\n",
        "<p align='justify'>&nbsp;&nbsp;&nbsp;Agora, vamos visitar os conceitos de variáveis e tipos de dados. Em Python, temos os seguintes tipos:</p>\n",
        "\n",
        "<br>\n",
        "\n",
        "<ul>\n",
        "  <li><strong>Numéricos:</strong> Dados expressos numericamente, podendo ser: <code>int</code>, <code>float</code> ou <code>complex</code>;</li>\n",
        "  <li><strong>Booleanos/Lógicos:</strong> Quaisquer dados que possam ser expressos como verdadeiro (<code>True</code>) ou falso (<code>False</code>). Seu tipo é <code>bool</code>;</li>\n",
        "  <li><strong>Textuais:</strong> Dados que envolvem texto - letras, números ou caracteres especiais. Seu tipo é <code>str</code></li>\n",
        "  <li><strong>Sequenciais:</strong> Dados que são uma coleção de itens discretos: </li>\n",
        "  <ol>\n",
        "    <li><strong>Lista:</strong> Coleção ordenada e <i>mutável</i>. Designada usando colchetes <code>[]</code>, e os itens podem ser de diferentes tipos de dados. Seu tipo é <code>list</code>;</li>\n",
        "    <li><strong>Tupla:</strong> Coleção ordenada e <i>imutável</i>. Designada usando parênteses <code>()</code>, e os itens também podem ser de diferentes tipos de dados. Seu tipo é <code>tuple</code>;</li>\n",
        "    <li><strong>Set:</strong> Coleção não ordenada e imutável* que não permite itens duplicados. Designado usando chaves <code>{}</code>, e os itens também podem ser de diferentes tipos de dados. Seu tipo é <code>set</code>.</li>\n",
        "  </ol>\n",
        "</ul>\n",
        "\n",
        "<br>"
      ],
      "metadata": {
        "id": "oI_DA3mONkIv"
      }
    },
    {
      "cell_type": "markdown",
      "source": [
        "#### 1.2.1. Tipos numéricos\n",
        "\n",
        "<br>"
      ],
      "metadata": {
        "id": "dXtfC5K8cfkp"
      }
    },
    {
      "cell_type": "code",
      "source": [],
      "metadata": {
        "id": "2yQZlmewapIY"
      },
      "execution_count": null,
      "outputs": []
    },
    {
      "cell_type": "markdown",
      "source": [
        "<br>\n",
        "\n",
        "#### 1.2.2. Tipos lógicos\n",
        "\n",
        "<br>"
      ],
      "metadata": {
        "id": "dz12Lkn6cixT"
      }
    },
    {
      "cell_type": "code",
      "source": [],
      "metadata": {
        "id": "o1Vlgs-Pa5o1"
      },
      "execution_count": null,
      "outputs": []
    },
    {
      "cell_type": "markdown",
      "source": [
        "<br>\n",
        "\n",
        "#### 1.2.3. Tipos textuais\n",
        "\n",
        "<br>"
      ],
      "metadata": {
        "id": "DxOFApSVcjKN"
      }
    },
    {
      "cell_type": "code",
      "source": [],
      "metadata": {
        "id": "TzHzXcnba6wT"
      },
      "execution_count": null,
      "outputs": []
    },
    {
      "cell_type": "markdown",
      "source": [
        "<br>\n",
        "\n",
        "#### 1.2.4. Tipos sequenciais\n",
        "\n",
        "<br>"
      ],
      "metadata": {
        "id": "3DgdqX0lcsvA"
      }
    },
    {
      "cell_type": "code",
      "source": [],
      "metadata": {
        "id": "58Y7nq__a8jp"
      },
      "execution_count": null,
      "outputs": []
    },
    {
      "cell_type": "markdown",
      "source": [
        "<br>\n",
        "\n",
        "### 1.3. Os três pilares da programação\n",
        "\n",
        "<br>\n",
        "\n",
        "<p align='justify'>&nbsp;&nbsp;&nbsp;Para avaliar a qualidade de um bom código, não se deve apenas considerar se está funcional ou não. Robert C. Martin menciona 3 pilares que são:</p>\n",
        "\n",
        "<br>\n",
        "\n",
        "<ul>\n",
        "  <li><strong>Funcionalidade:</strong> Referente à capacidade do código cumprir sua funcão principal;</li>\n",
        "  <li><strong>Legibilidade (ou Estilo):</strong> Referente à clareza e facilidade de leitura do código;</li>\n",
        "  <li><strong> Manutenibilidade (ou Extensibilidade):</strong> Referente à facilidade com que o código pode ser modificado ou estendido para acomodar novos requisitos ou correções de bugs.</li>\n",
        "</ul>\n",
        "\n",
        "<br>"
      ],
      "metadata": {
        "id": "pJ0cyD25NkFz"
      }
    },
    {
      "cell_type": "code",
      "source": [],
      "metadata": {
        "id": "TLVpr4Pkeyek"
      },
      "execution_count": null,
      "outputs": []
    },
    {
      "cell_type": "markdown",
      "source": [
        "<br>\n",
        "\n",
        "## 2. Estruturas de Controle\n",
        "\n",
        "<br>\n",
        "\n",
        "<p align='justify'>&nbsp;&nbsp;&nbsp;As estruturas de controle são recursos que permitem controlar o fluxo de execução de um programa de computador. Elas são essencias para direcionar como as instruções são executadas e como os dados são processados.</p>\n",
        "\n",
        "<br>"
      ],
      "metadata": {
        "id": "FTdzLFbYNkDA"
      }
    },
    {
      "cell_type": "markdown",
      "source": [
        "### 2.1. Condicionais\n",
        "\n",
        "<br>\n",
        "\n",
        "<p align='justify'>&nbsp;&nbsp;&nbsp;Permitem que as partes do código sejam executadas com base em condições específicas. Contamos com as seguintes palavras-chaves:</p>\n",
        "\n",
        "<br>\n",
        "\n",
        "<ul>\n",
        "  <li><strong>if (se):</strong> Usada para testar uma condição ou expressão. Se a condição for verdadeira, o bloco de código indentado após o <code>if</code> é executado; se for falsa, o bloco é ignorado;</li>\n",
        "  <li><strong>elif (senão se):</strong> Usada para testar uma condição adicional se a condição anterior for falsa. Podemos ter várias instruções <code>elif</code> e, se a atual for verdadeira, o restante é ignorado;</li>\n",
        "  <li><strong>else (senão):</strong> Usada para definir um bloco a ser executado quando nenhuma das condições anteriores (<code>if</code> ou <code>elif</code>) forem verdadeiras. Geralmente é usado como reserva.</li>\n",
        "\n",
        "<br>"
      ],
      "metadata": {
        "id": "MxMGkP3WVU8V"
      }
    },
    {
      "cell_type": "code",
      "source": [],
      "metadata": {
        "id": "ZnogiJ4DhTEl"
      },
      "execution_count": null,
      "outputs": []
    },
    {
      "cell_type": "markdown",
      "source": [
        "<br>\n",
        "\n",
        "### 2.2. Estruturas de repetição\n",
        "\n",
        "<br>\n",
        "\n",
        "<p align='justify'>&nbsp;&nbsp;&nbsp;Estruturas de repetição, ou <i>Loops</i> são elementos que permitem executar um bloco de código repetidamente com base em uma condição ou iteração. Existem duas estruturas comuns que estão presentes em várias linguagens, sendo:</p>\n",
        "\n",
        "<br>"
      ],
      "metadata": {
        "id": "WF6u3OeGVU5r"
      }
    },
    {
      "cell_type": "markdown",
      "source": [
        "#### 2.2.1. Para (`for`)\n",
        "\n",
        "<br>\n",
        "\n",
        "<ul>\n",
        "  <li>Usado para iterar sobre uma sequência de elementos, como uma lista, um texto ou uma faixa de números;</li>\n",
        "  <li>Permite que você execute um bloco de código para cada item na sequência - um de cada vez;</li>\n",
        "  <li>Você define uma variável que assume o valor de cada item a cada iteração.</li>\n",
        "</ul>\n",
        "\n",
        "<br>"
      ],
      "metadata": {
        "id": "keY2HLRAmnl7"
      }
    },
    {
      "cell_type": "code",
      "source": [],
      "metadata": {
        "id": "6Tj3zo2GnMfU"
      },
      "execution_count": null,
      "outputs": []
    },
    {
      "cell_type": "markdown",
      "source": [
        "#### 2.2.2. Enquanto (`while`)\n",
        "\n",
        "<br>\n",
        "\n",
        "<ul>\n",
        "  <li>Usado quando você deseja executar um bloco repetidamente enquanto uma condição for verdadeira;</li>\n",
        "  <li>O bloco continuará a ser executado até que a condição se torne falsa;</li>\n",
        "  <li>É importante tomar cuidado para evitar que as repetições sejam infinitas (onde a condição nunca se torna falsa).</li>\n",
        "</ul>\n",
        "\n",
        "<br>"
      ],
      "metadata": {
        "id": "CMMOUhZxnLmK"
      }
    },
    {
      "cell_type": "code",
      "source": [],
      "metadata": {
        "id": "cEZfeSGFniKW"
      },
      "execution_count": null,
      "outputs": []
    },
    {
      "cell_type": "markdown",
      "source": [
        "<br>\n",
        "\n",
        "### 2.3. Exercício assistido\n",
        "\n",
        "<br>\n",
        "\n",
        "<p align='justify'>&nbsp;&nbsp;&nbsp;Bem, até agora vimos conceitos avulsos. Então, chegou a hora de usarmos isso em uma prática com um exercício assistido - onde iremos juntos desenvolver algo útil. Vamos lá?</p>\n",
        "\n",
        "<br>"
      ],
      "metadata": {
        "id": "JeuLY4emVU3B"
      }
    },
    {
      "cell_type": "markdown",
      "source": [
        "<br>\n",
        "\n",
        "#### 2.3.1. O mistério dos números 🔮\n",
        "\n",
        "<br>\n",
        "\n",
        "<p align='center'><code>✨ <i>Prepare-se para uma emocionante aventura no mundo dos números...</i></code></p>\n",
        "\n",
        "<br>\n",
        "\n",
        "<p align='center'>&nbsp;&nbsp;&nbsp;📜 <i>Seu desafio épico diz:</i> 📜 </p>\n",
        "\n",
        "<p align='center'>&nbsp;&nbsp;&nbsp;<i>Você precisa construir o grande <code>Detetive dos Números</code>, um herói virtual que vai te auxiliar a decifrar o enigma dos números, revelando se eles são pares ou ímpares...</i></p>\n",
        "\n",
        "<br>\n",
        "\n",
        "<p align='center'><code>🐍 <i>Ao criar este superprograma, você irá abrir as portas para a sua jornada no universo Python...</i></code>"
      ],
      "metadata": {
        "id": "ZuFidzwYommm"
      }
    },
    {
      "cell_type": "code",
      "source": [],
      "metadata": {
        "id": "0rTvnG1Rstfv"
      },
      "execution_count": null,
      "outputs": []
    }
  ]
}